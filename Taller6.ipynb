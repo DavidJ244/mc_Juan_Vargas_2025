{
  "nbformat": 4,
  "nbformat_minor": 0,
  "metadata": {
    "colab": {
      "provenance": []
    },
    "kernelspec": {
      "name": "python3",
      "display_name": "Python 3"
    },
    "language_info": {
      "name": "python"
    }
  },
  "cells": [
    {
      "cell_type": "code",
      "execution_count": 30,
      "metadata": {
        "colab": {
          "base_uri": "https://localhost:8080/"
        },
        "id": "G_WQsr0gsZKJ",
        "outputId": "8b7a471b-9313-4095-d7ad-4f53e4a5fea7"
      },
      "outputs": [
        {
          "output_type": "stream",
          "name": "stdout",
          "text": [
            "Ingrese el valor en radianes: 23\n",
            "Valor estimado de cos(23.0): -0.5328331527370725\n",
            "Error aproximado relativo porcentual: 0.00002485%\n",
            "Número de iteraciones realizadas: 40\n"
          ]
        }
      ],
      "source": [
        "import math\n",
        "\n",
        "def factorial(n):\n",
        "    \"\"\"Calcula el factorial de un número.\"\"\"\n",
        "    if n == 0:\n",
        "        return 1\n",
        "    else:\n",
        "        return n * factorial(n - 1)\n",
        "\n",
        "def taylor_cos(x, tol=0.5 * 10**-8):\n",
        "    \"\"\"Calcula el coseno de x usando la serie de Taylor con una tolerancia de 8 cifras significativas.\"\"\"\n",
        "    cos_approx = 0\n",
        "    term = 1\n",
        "    n = 0\n",
        "    iteraciones = 0\n",
        "\n",
        "    while abs(term) > tol:\n",
        "        term = ((-1) ** n) * (x ** (2 * n)) / factorial(2 * n)\n",
        "        cos_approx += term\n",
        "        n += 1\n",
        "        iteraciones += 1\n",
        "\n",
        "    return cos_approx, iteraciones\n",
        "\n",
        "\n",
        "x = float(input(\"Ingrese el valor en radianes: \"))\n",
        "cos_estimado, iteraciones = taylor_cos(x)\n",
        "\n",
        "cos_real = math.cos(x)\n",
        "\n",
        "\n",
        "error_aproximado = abs((cos_real - cos_estimado) / cos_real) * 100\n",
        "\n",
        "\n",
        "print(f\"Valor estimado de cos({x}): {cos_estimado}\")\n",
        "print(f\"Error aproximado relativo porcentual: {error_aproximado:.8f}%\")\n",
        "print(f\"Número de iteraciones realizadas: {iteraciones}\")\n"
      ]
    }
  ]
}