{
  "nbformat": 4,
  "nbformat_minor": 0,
  "metadata": {
    "colab": {
      "provenance": []
    },
    "kernelspec": {
      "name": "python3",
      "display_name": "Python 3"
    },
    "language_info": {
      "name": "python"
    }
  },
  "cells": [
    {
      "cell_type": "code",
      "execution_count": 1,
      "metadata": {
        "colab": {
          "base_uri": "https://localhost:8080/"
        },
        "id": "mjphu1Pwuq4I",
        "outputId": "34a535e5-f758-49ad-8bc9-d879f7de66bb"
      },
      "outputs": [
        {
          "output_type": "stream",
          "name": "stdout",
          "text": [
            "Ingrese un número en base 10: 23\n",
            "El número 23 en base 16 es: 17\n"
          ]
        }
      ],
      "source": [
        "def decimal_a_hexadecimal(numero):\n",
        "    if numero == 0:\n",
        "        return \"0\"\n",
        "\n",
        "    digitos_hex = \"0123456789ABCDEF\"\n",
        "    resultado = \"\"\n",
        "\n",
        "    while numero > 0:\n",
        "        residuo = numero % 16\n",
        "        resultado = digitos_hex[residuo] + resultado\n",
        "        numero = numero // 16\n",
        "\n",
        "    return resultado\n",
        "\n",
        "# Ejemplo de uso\n",
        "numero_decimal = int(input(\"Ingrese un número en base 10: \"))\n",
        "print(f\"El número {numero_decimal} en base 16 es: {decimal_a_hexadecimal(numero_decimal)}\")"
      ]
    },
    {
      "cell_type": "code",
      "source": [
        "def es_numero_base_8(numero):\n",
        "\n",
        "    for digito in numero:\n",
        "        if not digito.isdigit() or int(digito) >= 8:\n",
        "            return False\n",
        "    return True\n",
        "\n",
        "def octal_a_decimal(numero):\n",
        "    if not es_numero_base_8(numero):\n",
        "        return \"Número no válido en base 8\"\n",
        "\n",
        "    resultado = 0\n",
        "    longitud = len(numero)\n",
        "\n",
        "    for i, digito in enumerate(numero):\n",
        "\n",
        "        resultado += int(digito) * (8 ** (longitud - i - 1))\n",
        "\n",
        "    return resultado\n",
        "\n",
        "\n",
        "numero_octal = input(\"Ingrese un número en base 8: \")\n",
        "print(f\"El número {numero_octal} en base 10 es: {octal_a_decimal(numero_octal)}\")"
      ],
      "metadata": {
        "colab": {
          "base_uri": "https://localhost:8080/"
        },
        "id": "PDaVWGo8vDj8",
        "outputId": "9acfffa0-db0f-4d5c-d71f-1da3f9e84315"
      },
      "execution_count": 2,
      "outputs": [
        {
          "output_type": "stream",
          "name": "stdout",
          "text": [
            "Ingrese un número en base 8: 12\n",
            "El número 12 en base 10 es: 10\n"
          ]
        }
      ]
    }
  ]
}