{
  "nbformat": 4,
  "nbformat_minor": 0,
  "metadata": {
    "colab": {
      "provenance": []
    },
    "kernelspec": {
      "name": "python3",
      "display_name": "Python 3"
    },
    "language_info": {
      "name": "python"
    }
  },
  "cells": [
    {
      "cell_type": "code",
      "execution_count": 1,
      "metadata": {
        "colab": {
          "base_uri": "https://localhost:8080/"
        },
        "id": "yriUlJORwJDb",
        "outputId": "f4b31f05-7f4a-40eb-ee41-a1ed5d6f2f67"
      },
      "outputs": [
        {
          "output_type": "stream",
          "name": "stdout",
          "text": [
            "Propagación del error en f1(1.4): 0.11308\n",
            "Propagación del error en f2(1.0471975511965976): -0.00081\n"
          ]
        }
      ],
      "source": [
        "import numpy as np\n",
        "\n",
        "def derivada_f1(x):\n",
        "    return 4.4*x**3 - 5.7*x**2 + 2.4*x - 2\n",
        "\n",
        "def derivada_f2(x):\n",
        "    return -np.sin(x) * np.log(2*x) + (np.cos(x) / x)\n",
        "\n",
        "# Valores dados para el primer ejercicio\n",
        "x1 = 1.4\n",
        "delta_x1 = 0.05\n",
        "error_f1 = derivada_f1(x1) * delta_x1\n",
        "\n",
        "# Valores dados para el segundo ejercicio\n",
        "x2 = np.pi / 3\n",
        "delta_x2 = 0.005\n",
        "error_f2 = derivada_f2(x2) * delta_x2\n",
        "\n",
        "print(f\"Propagación del error en f1({x1}): {error_f1:.5f}\")\n",
        "print(f\"Propagación del error en f2({x2}): {error_f2:.5f}\")"
      ]
    }
  ]
}