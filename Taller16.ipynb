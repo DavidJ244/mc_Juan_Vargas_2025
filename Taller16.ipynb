{
  "nbformat": 4,
  "nbformat_minor": 0,
  "metadata": {
    "colab": {
      "provenance": []
    },
    "kernelspec": {
      "name": "python3",
      "display_name": "Python 3"
    },
    "language_info": {
      "name": "python"
    }
  },
  "cells": [
    {
      "cell_type": "code",
      "execution_count": 2,
      "metadata": {
        "colab": {
          "base_uri": "https://localhost:8080/"
        },
        "id": "jMEdvuldZmAK",
        "outputId": "ee594d57-0d9f-4165-c8b8-0b01ca7cc90f"
      },
      "outputs": [
        {
          "output_type": "stream",
          "name": "stdout",
          "text": [
            "\n",
            "Matriz A:\n",
            "[' 3.000', ' 2.000', ' 2.000']\n",
            "[' 3.000', ' 1.000', '-3.000']\n",
            "[' 1.000', ' 0.000', '-2.000']\n",
            "\n",
            "Inversa de A:\n",
            "[' 1.000', '-2.000', ' 4.000']\n",
            "['-1.500', ' 4.000', '-7.500']\n",
            "[' 0.500', '-1.000', ' 1.500']\n",
            "\n",
            "A * A⁻¹:\n",
            "[' 1.000', '-0.000', ' 0.000']\n",
            "[' 0.000', ' 1.000', ' 0.000']\n",
            "[' 0.000', ' 0.000', ' 1.000']\n",
            "\n",
            "Matriz B:\n",
            "[' 1.000', ' 2.000', ' 0.000']\n",
            "[' 2.000', ' 0.000', '-1.000']\n",
            "[' 1.000', ' 0.000', ' 1.000']\n",
            "\n",
            "Inversa de B:\n",
            "[' 0.000', ' 0.333', ' 0.333']\n",
            "[' 0.500', '-0.167', '-0.167']\n",
            "[' 0.000', '-0.333', ' 0.667']\n",
            "\n",
            "B * B⁻¹:\n",
            "[' 1.000', ' 0.000', ' 0.000']\n",
            "[' 0.000', ' 1.000', ' 0.000']\n",
            "[' 0.000', ' 0.000', ' 1.000']\n"
          ]
        }
      ],
      "source": [
        "import numpy as np\n",
        "\n",
        "def gauss_jordan_inverse(matrix):\n",
        "    n = len(matrix)\n",
        "    A = [row[:] for row in matrix]\n",
        "    I = [[float(i == j) for j in range(n)] for i in range(n)]\n",
        "\n",
        "    for i in range(n):\n",
        "        # Pivoteo\n",
        "        if A[i][i] == 0:\n",
        "            for j in range(i+1, n):\n",
        "                if A[j][i] != 0:\n",
        "                    A[i], A[j] = A[j], A[i]\n",
        "                    I[i], I[j] = I[j], I[i]\n",
        "                    break\n",
        "\n",
        "        # Hacer que el pivote sea 1\n",
        "        factor = A[i][i]\n",
        "        A[i] = [a / factor for a in A[i]]\n",
        "        I[i] = [a / factor for a in I[i]]\n",
        "\n",
        "        # Eliminar otros valores en la columna\n",
        "        for j in range(n):\n",
        "            if i != j:\n",
        "                factor = A[j][i]\n",
        "                A[j] = [a - factor*b for a, b in zip(A[j], A[i])]\n",
        "                I[j] = [a - factor*b for a, b in zip(I[j], I[i])]\n",
        "\n",
        "    return I\n",
        "\n",
        "def imprimir_matriz(M, nombre):\n",
        "    print(f\"\\n{nombre}:\")\n",
        "    for fila in M:\n",
        "        print([\"{0: .3f}\".format(elem) for elem in fila])\n",
        "\n",
        "def es_identidad(matriz):\n",
        "    identidad = np.identity(len(matriz))\n",
        "    producto = np.dot(matriz[0], matriz[1])\n",
        "    return np.allclose(producto, identidad)\n",
        "\n",
        "# Matrices dadas\n",
        "A = [\n",
        "    [3, 2, 2],\n",
        "    [3, 1, -3],\n",
        "    [1, 0, -2]\n",
        "]\n",
        "\n",
        "B = [\n",
        "    [1, 2, 0],\n",
        "    [2, 0, -1],\n",
        "    [1, 0, 1]\n",
        "]\n",
        "\n",
        "for nombre, M in [('A', A), ('B', B)]:\n",
        "    inv = gauss_jordan_inverse(M)\n",
        "    imprimir_matriz(M, f\"Matriz {nombre}\")\n",
        "    imprimir_matriz(inv, f\"Inversa de {nombre}\")\n",
        "    identidad = np.dot(np.array(M), np.array(inv))\n",
        "    imprimir_matriz(identidad, f\"{nombre} * {nombre}⁻¹\")\n",
        "\n"
      ]
    }
  ]
}