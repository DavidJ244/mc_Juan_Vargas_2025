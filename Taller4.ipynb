{
  "nbformat": 4,
  "nbformat_minor": 0,
  "metadata": {
    "colab": {
      "provenance": []
    },
    "kernelspec": {
      "name": "python3",
      "display_name": "Python 3"
    },
    "language_info": {
      "name": "python"
    }
  },
  "cells": [
    {
      "cell_type": "code",
      "execution_count": 1,
      "metadata": {
        "colab": {
          "base_uri": "https://localhost:8080/"
        },
        "id": "fl_lduWozHZb",
        "outputId": "34221b98-7295-44c1-a3a0-2eae342089b8"
      },
      "outputs": [
        {
          "output_type": "stream",
          "name": "stdout",
          "text": [
            "Tipos de vehículos antes: 90\n",
            "Tipos de vehículos después: 300\n",
            "Placas de automóviles diferentes: 15625000\n",
            "Placas sin repetición de letras o números: 9936000\n",
            "Formas de seleccionar los directivos: 5040\n"
          ]
        }
      ],
      "source": [
        "from math import factorial\n",
        "\n",
        "def calcular_vehiculos(colores, lineas, transmision, cilindraje):\n",
        "    return colores * lineas * transmision * cilindraje\n",
        "\n",
        "def calcular_placas(repite_letras=True, repite_numeros=True):\n",
        "    letras = 25\n",
        "    numeros = 10\n",
        "    if repite_letras and repite_numeros:\n",
        "        return (letras ** 3) * (numeros ** 3)\n",
        "    else:\n",
        "        return (letras * (letras - 1) * (letras - 2)) * (numeros * (numeros - 1) * (numeros - 2))\n",
        "\n",
        "def calcular_permutaciones(n, k):\n",
        "    return factorial(n) // factorial(n - k)\n",
        "\n",
        "# 1. Cálculo de vehículos\n",
        "tipos_vehiculos_antes = calcular_vehiculos(3, 5, 3, 2)\n",
        "tipos_vehiculos_despues = calcular_vehiculos(10, 5, 3, 2)\n",
        "print(f\"Tipos de vehículos antes: {tipos_vehiculos_antes}\")\n",
        "print(f\"Tipos de vehículos después: {tipos_vehiculos_despues}\")\n",
        "\n",
        "# 2. Cálculo de placas\n",
        "total_placas = calcular_placas()\n",
        "total_placas_sin_repeticion = calcular_placas(False, False)\n",
        "print(f\"Placas de automóviles diferentes: {total_placas}\")\n",
        "print(f\"Placas sin repetición de letras o números: {total_placas_sin_repeticion}\")\n",
        "\n",
        "# 3. Cálculo de permutaciones para la elección de directivos\n",
        "total_permutaciones = calcular_permutaciones(10, 4)\n",
        "print(f\"Formas de seleccionar los directivos: {total_permutaciones}\")\n"
      ]
    }
  ]
}