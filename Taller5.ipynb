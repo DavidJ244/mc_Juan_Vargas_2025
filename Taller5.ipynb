{
  "nbformat": 4,
  "nbformat_minor": 0,
  "metadata": {
    "colab": {
      "provenance": []
    },
    "kernelspec": {
      "name": "python3",
      "display_name": "Python 3"
    },
    "language_info": {
      "name": "python"
    }
  },
  "cells": [
    {
      "cell_type": "code",
      "execution_count": 3,
      "metadata": {
        "colab": {
          "base_uri": "https://localhost:8080/"
        },
        "id": "N2dMaj4027iZ",
        "outputId": "39ec78dd-2eaa-419c-a4f6-edf713257f2f"
      },
      "outputs": [
        {
          "output_type": "stream",
          "name": "stdout",
          "text": [
            "1a) Formas de seleccionar 8 aplicaciones de 20: 125970\n",
            "1b) Formas de seleccionar 3 de 6 y 5 de 14: 40040\n",
            "2a) Manos de póquer de 5 cartas: 2598960\n",
            "2b) Manos de póquer con todas las cartas del mismo palo: 5148\n",
            "2c) Manos de póquer con tres cartas de una denominación y dos de otra: 3744\n"
          ]
        }
      ],
      "source": [
        "from math import comb\n",
        "\n",
        "# Ejercicio 1\n",
        "def ejercicio_1():\n",
        "\n",
        "    formas_a = comb(20, 8)\n",
        "    print(f\"1a) Formas de seleccionar 8 aplicaciones de 20: {formas_a}\")\n",
        "\n",
        "\n",
        "    formas_b = comb(6, 3) * comb(14, 5)\n",
        "    print(f\"1b) Formas de seleccionar 3 de 6 y 5 de 14: {formas_b}\")\n",
        "\n",
        "# Ejercicio 2\n",
        "def ejercicio_2():\n",
        "\n",
        "    formas_a = comb(52, 5)\n",
        "    print(f\"2a) Manos de póquer de 5 cartas: {formas_a}\")\n",
        "\n",
        "\n",
        "    formas_b = 4 * comb(13, 5)  # 4 palos y 5 cartas de cada palo\n",
        "    print(f\"2b) Manos de póquer con todas las cartas del mismo palo: {formas_b}\")\n",
        "\n",
        "\n",
        "    formas_c = 13 * comb(4, 3) * 12 * comb(4, 2)  # 13 denominaciones, 4 cartas por denominación\n",
        "    print(f\"2c) Manos de póquer con tres cartas de una denominación y dos de otra: {formas_c}\")\n",
        "\n",
        "# Ejecutar las funciones\n",
        "ejercicio_1()\n",
        "ejercicio_2()"
      ]
    },
    {
      "cell_type": "code",
      "source": [],
      "metadata": {
        "id": "IcFhewUS3Bn-"
      },
      "execution_count": null,
      "outputs": []
    }
  ]
}