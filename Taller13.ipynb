{
  "nbformat": 4,
  "nbformat_minor": 0,
  "metadata": {
    "colab": {
      "provenance": []
    },
    "kernelspec": {
      "name": "python3",
      "display_name": "Python 3"
    },
    "language_info": {
      "name": "python"
    }
  },
  "cells": [
    {
      "cell_type": "code",
      "execution_count": 1,
      "metadata": {
        "colab": {
          "base_uri": "https://localhost:8080/"
        },
        "id": "XIRXRhLjK99s",
        "outputId": "65860ca5-4e51-4b91-cf99-5fa4f3f1505c"
      },
      "outputs": [
        {
          "output_type": "stream",
          "name": "stdout",
          "text": [
            "Orden | Aproximación | Error Relativo (%)\n",
            "--------------------------------------------------\n",
            "    0 | 0.4493289641 | 0.501252\n",
            "    1 | 0.4470823193 | 0.001254\n",
            "    2 | 0.4470879359 | 0.000002\n",
            "    3 | 0.4470879265 | 0.000000\n",
            "    4 | 0.4470879266 | 0.000000\n",
            "    5 | 0.4470879266 | 0.000000\n",
            "    6 | 0.4470879266 | 0.000000\n",
            "    7 | 0.4470879266 | 0.000000\n",
            "    8 | 0.4470879266 | 0.000000\n",
            "    9 | 0.4470879266 | 0.000000\n",
            "   10 | 0.4470879266 | 0.000000\n",
            "   11 | 0.4470879266 | 0.000000\n",
            "   12 | 0.4470879266 | 0.000000\n",
            "   13 | 0.4470879266 | 0.000000\n",
            "   14 | 0.4470879266 | 0.000000\n",
            "   15 | 0.4470879266 | 0.000000\n"
          ]
        }
      ],
      "source": [
        "import math\n",
        "\n",
        "def taylor_exponential(x, x0, n):\n",
        "    \"\"\"Aproxima e^(-x) usando la serie de Taylor alrededor de x0 hasta el orden n.\"\"\"\n",
        "    approx = 0\n",
        "    for i in range(n+1):\n",
        "        term = ((-1)**i * (x - x0)**i) / math.factorial(i) * math.exp(-x0)\n",
        "        approx += term\n",
        "    return approx\n",
        "\n",
        "def calcular_error_relativo(estimado, real):\n",
        "    \"\"\"Calcula el error relativo porcentual.\"\"\"\n",
        "    return abs((real - estimado) / real) * 100\n",
        "\n",
        "# Valores dados\n",
        "x = 0.805\n",
        "x0 = 0.8\n",
        "valor_real = math.exp(-x)\n",
        "\n",
        "print(\"Orden | Aproximación | Error Relativo (%)\")\n",
        "print(\"--------------------------------------------------\")\n",
        "for orden in range(16):\n",
        "    aproximacion = taylor_exponential(x, x0, orden)\n",
        "    error = calcular_error_relativo(aproximacion, valor_real)\n",
        "    print(f\"{orden:5d} | {aproximacion:.10f} | {error:.6f}\")"
      ]
    }
  ]
}