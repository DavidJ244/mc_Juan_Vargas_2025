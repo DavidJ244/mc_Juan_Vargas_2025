{
  "nbformat": 4,
  "nbformat_minor": 0,
  "metadata": {
    "colab": {
      "provenance": []
    },
    "kernelspec": {
      "name": "python3",
      "display_name": "Python 3"
    },
    "language_info": {
      "name": "python"
    }
  },
  "cells": [
    {
      "cell_type": "code",
      "execution_count": 1,
      "metadata": {
        "colab": {
          "base_uri": "https://localhost:8080/"
        },
        "id": "Sw6XDe_0q9GT",
        "outputId": "d9bdb554-ae06-4b4c-af1c-e29132af5d7a"
      },
      "outputs": [
        {
          "output_type": "stream",
          "name": "stdout",
          "text": [
            "Solución: [ 4.3   0.75 -0.8 ]\n"
          ]
        }
      ],
      "source": [
        "import numpy as np\n",
        "\n",
        "def gauss_jordan(A, b):\n",
        "    \"\"\"\n",
        "    Implementación del método de eliminación de Gauss-Jordan\n",
        "    con intercambio de filas si el pivote es cero.\n",
        "    \"\"\"\n",
        "    n = len(A)\n",
        "    A = np.array(A, dtype=float)\n",
        "    b = np.array(b, dtype=float)\n",
        "    Ab = np.hstack([A, b.reshape(-1, 1)])  # Matriz aumentada\n",
        "\n",
        "    for i in range(n):\n",
        "        # Si el pivote es cero, intercambiar filas\n",
        "        if Ab[i, i] == 0:\n",
        "            for j in range(i + 1, n):\n",
        "                if Ab[j, i] != 0:\n",
        "                    Ab[[i, j]] = Ab[[j, i]]  # Intercambio de filas\n",
        "                    break\n",
        "\n",
        "        # Normalizar el pivote a 1\n",
        "        Ab[i] = Ab[i] / Ab[i, i]\n",
        "\n",
        "        # Hacer ceros en la columna del pivote\n",
        "        for j in range(n):\n",
        "            if i != j:\n",
        "                Ab[j] -= Ab[j, i] * Ab[i]\n",
        "\n",
        "    return Ab[:, -1]  # Retornar la solución\n",
        "\n",
        "# Sistema de ecuaciones\n",
        "A = [[2, 0, 2],\n",
        "     [4, 0, -1],\n",
        "     [3, 2, -2]]\n",
        "\n",
        "b = [7, 18, 16]\n",
        "\n",
        "solucion = gauss_jordan(A, b)\n",
        "print(\"Solución:\", solucion)\n"
      ]
    }
  ]
}