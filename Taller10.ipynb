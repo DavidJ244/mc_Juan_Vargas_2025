{
  "nbformat": 4,
  "nbformat_minor": 0,
  "metadata": {
    "colab": {
      "provenance": []
    },
    "kernelspec": {
      "name": "python3",
      "display_name": "Python 3"
    },
    "language_info": {
      "name": "python"
    }
  },
  "cells": [
    {
      "cell_type": "code",
      "execution_count": 2,
      "metadata": {
        "colab": {
          "base_uri": "https://localhost:8080/"
        },
        "id": "z1XxI62Vrw5c",
        "outputId": "860b75fc-a7cb-4701-e9a2-a4d016cde374"
      },
      "outputs": [
        {
          "output_type": "stream",
          "name": "stdout",
          "text": [
            "1️⃣ Aproximación de f(0.5): -0.16250\n"
          ]
        }
      ],
      "source": [
        "from math import factorial\n",
        "\n",
        "def fx1(x): return 0.3*x**3 - 1.8*x**2 + 2.5*x - 1\n",
        "def dfx1(x): return 0.9*x**2 - 3.6*x + 2.5\n",
        "def d2fx1(x): return 1.8*x - 3.6\n",
        "def d3fx1(x): return 1.8  # Tercera derivada constante\n",
        "\n",
        "def taylor_series1(x0, x):\n",
        "    \"\"\" Aproxima f(x) usando la serie de Taylor hasta el tercer orden.\"\"\"\n",
        "    h = x - x0\n",
        "    approximation = fx1(x0)\n",
        "    approximation += dfx1(x0) * h\n",
        "    approximation += (d2fx1(x0) * h**2) / factorial(2)\n",
        "    approximation += (d3fx1(x0) * h**3) / factorial(3)\n",
        "    return approximation\n",
        "\n",
        "x0_1, x_1 = 0.4, 0.5\n",
        "resultado1 = taylor_series1(x0_1, x_1)\n",
        "print(f\"1️⃣ Aproximación de f(0.5): {resultado1:.5f}\")\n"
      ]
    },
    {
      "cell_type": "code",
      "source": [
        "from math import exp\n",
        "\n",
        "def fx2(x): return 1.4 * exp(x) - 3.2*x + 2.4\n",
        "def dfx2(x): return 1.4 * exp(x) - 3.2\n",
        "def d2fx2(x): return 1.4 * exp(x)\n",
        "def d3fx2(x): return 1.4 * exp(x)  # Igual a la segunda derivada\n",
        "\n",
        "def taylor_series2(x0, x):\n",
        "    \"\"\" Se aproxima f(x) usando la serie de Taylor hasta el tercer orden.\"\"\"\n",
        "    h = x - x0\n",
        "    approximation = fx2(x0)\n",
        "    approximation += dfx2(x0) * h\n",
        "    approximation += (d2fx2(x0) * h**2) / factorial(2)\n",
        "    approximation += (d3fx2(x0) * h**3) / factorial(3)\n",
        "    return approximation\n",
        "\n",
        "x0_2, x_2 = 0.6, 0.65\n",
        "resultado2 = taylor_series2(x0_2, x_2)\n",
        "print(f\"2️⃣ Aproximación de f(0.65): {resultado2:.5f}\")\n"
      ],
      "metadata": {
        "colab": {
          "base_uri": "https://localhost:8080/"
        },
        "id": "Okwbf7d1sR1K",
        "outputId": "b5472439-80b5-4c3e-f6ec-c2442f612e54"
      },
      "execution_count": 3,
      "outputs": [
        {
          "output_type": "stream",
          "name": "stdout",
          "text": [
            "2️⃣ Aproximación de f(0.65): 3.00176\n"
          ]
        }
      ]
    }
  ]
}