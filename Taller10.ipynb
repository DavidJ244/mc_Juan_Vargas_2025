{
  "nbformat": 4,
  "nbformat_minor": 0,
  "metadata": {
    "colab": {
      "provenance": []
    },
    "kernelspec": {
      "name": "python3",
      "display_name": "Python 3"
    },
    "language_info": {
      "name": "python"
    }
  },
  "cells": [
    {
      "cell_type": "code",
      "execution_count": 1,
      "metadata": {
        "colab": {
          "base_uri": "https://localhost:8080/"
        },
        "id": "CfF104L4Dx33",
        "outputId": "4335a894-1e7b-484e-9fb1-833febd96826"
      },
      "outputs": [
        {
          "output_type": "stream",
          "name": "stdout",
          "text": [
            "1️⃣ Aproximación de f(0.5): -0.16250\n"
          ]
        }
      ],
      "source": [
        "from math import factorial\n",
        "\n",
        "def fx1(x): return 0.3*x**3 - 1.8*x**2 + 2.5*x - 1\n",
        "def dfx1(x): return 0.9*x**2 - 3.6*x + 2.5\n",
        "def d2fx1(x): return 1.8*x - 3.6\n",
        "def d3fx1(x): return 1.8\n",
        "\n",
        "def taylor_series1(x0, x):\n",
        "    \"\"\" Aproxima f(x) usando la serie de Taylor hasta el tercer orden.\"\"\"\n",
        "    h = x - x0\n",
        "    approximation = fx1(x0)\n",
        "    approximation += dfx1(x0) * h\n",
        "    approximation += (d2fx1(x0) * h**2) / factorial(2)\n",
        "    approximation += (d3fx1(x0) * h**3) / factorial(3)\n",
        "    return approximation\n",
        "\n",
        "x0_1, x_1 = 0.4, 0.5\n",
        "resultado1 = taylor_series1(x0_1, x_1)\n",
        "print(f\"1️⃣ Aproximación de f(0.5): {resultado1:.5f}\")"
      ]
    },
    {
      "cell_type": "code",
      "source": [
        "from math import exp\n",
        "\n",
        "def fx2(x): return 1.4 * exp(x) - 3.2*x + 2.4\n",
        "def dfx2(x): return 1.4 * exp(x) - 3.2\n",
        "def d2fx2(x): return 1.4 * exp(x)\n",
        "def d3fx2(x): return 1.4 * exp(x)\n",
        "\n",
        "def taylor_series2(x0, x):\n",
        "    \"\"\" Aproxima f(x) usando la serie de Taylor hasta el tercer orden.\"\"\"\n",
        "    h = x - x0\n",
        "    approximation = fx2(x0)\n",
        "    approximation += dfx2(x0) * h\n",
        "    approximation += (d2fx2(x0) * h**2) / factorial(2)\n",
        "    approximation += (d3fx2(x0) * h**3) / factorial(3)\n",
        "    return approximation\n",
        "\n",
        "x0_2, x_2 = 0.6, 0.65\n",
        "resultado2 = taylor_series2(x0_2, x_2)\n",
        "print(f\"2️⃣ Aproximación de f(0.65): {resultado2:.5f}\")\n"
      ],
      "metadata": {
        "colab": {
          "base_uri": "https://localhost:8080/"
        },
        "id": "Uht7cNcZEmeL",
        "outputId": "19095291-fc3a-4591-db19-40773462cccd"
      },
      "execution_count": 2,
      "outputs": [
        {
          "output_type": "stream",
          "name": "stdout",
          "text": [
            "2️⃣ Aproximación de f(0.65): 3.00176\n"
          ]
        }
      ]
    }
  ]
}