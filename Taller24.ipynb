{
  "nbformat": 4,
  "nbformat_minor": 0,
  "metadata": {
    "colab": {
      "provenance": []
    },
    "kernelspec": {
      "name": "python3",
      "display_name": "Python 3"
    },
    "language_info": {
      "name": "python"
    }
  },
  "cells": [
    {
      "cell_type": "code",
      "execution_count": 1,
      "metadata": {
        "id": "YrnG2Hkshkrr",
        "outputId": "1fb15094-dddd-43aa-b4fb-5567485e908b",
        "colab": {
          "base_uri": "https://localhost:8080/"
        }
      },
      "outputs": [
        {
          "output_type": "stream",
          "name": "stdout",
          "text": [
            "f(2.5) ≈ -0.6914\n"
          ]
        }
      ],
      "source": [
        "import numpy as np\n",
        "\n",
        "def lagrange_interpolacion(x, y, x_eval):\n",
        "    n = len(x)\n",
        "    total = 0\n",
        "    for i in range(n):\n",
        "        L = 1\n",
        "        for j in range(n):\n",
        "            if j != i:\n",
        "                L *= (x_eval - x[j]) / (x[i] - x[j])\n",
        "        total += L * y[i]\n",
        "    return total\n",
        "\n",
        "# Datos\n",
        "x_vals = np.array([1, 2, 3, 4, 5])\n",
        "y_vals = np.array([2, 0.5, -2, -3.5, 0.5])\n",
        "\n",
        "# Estimar en x = 2.5 como ejemplo\n",
        "x_test = 2.5\n",
        "resultado = lagrange_interpolacion(x_vals, y_vals, x_test)\n",
        "print(f\"f({x_test}) ≈ {resultado:.4f}\")\n"
      ]
    }
  ]
}