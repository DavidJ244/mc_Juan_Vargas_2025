{
  "nbformat": 4,
  "nbformat_minor": 0,
  "metadata": {
    "colab": {
      "provenance": []
    },
    "kernelspec": {
      "name": "python3",
      "display_name": "Python 3"
    },
    "language_info": {
      "name": "python"
    }
  },
  "cells": [
    {
      "cell_type": "code",
      "execution_count": 1,
      "metadata": {
        "colab": {
          "base_uri": "https://localhost:8080/"
        },
        "id": "Vf0dIpjIJBz7",
        "outputId": "1e9f236b-ffd1-4dc2-e73d-ce40819cd4ae"
      },
      "outputs": [
        {
          "output_type": "stream",
          "name": "stdout",
          "text": [
            "Ingrese la longitud de los vectores: 35\n",
            "\n",
            "Vector A: [ 4 -2  9 -2 -9 -7  7  2  1  0  5 -9 -7  6 -9 -1 -6 -1  9 -9  7 -1 -2 -1\n",
            "  2 -8 -2  3 -4 -9 -3  4 -1 -7  5]\n",
            "Vector B: [ -8   3  -4   1  -6  -8  -1  -1  -5  -7   2 -10  -9   5   9   1  -6  -3\n",
            "   1   1   9  -7   9   0  -4   8   5  -2  -9  -9 -10  -5   6  -9   7]\n",
            "Producto escalar: 353\n"
          ]
        }
      ],
      "source": [
        "import numpy as np\n",
        "\n",
        "def producto_escalar():\n",
        "\n",
        "    n = int(input(\"Ingrese la longitud de los vectores (CM): \"))\n",
        "\n",
        "    vector_a = np.random.randint(-10, 10, n)\n",
        "    vector_b = np.random.randint(-10, 10, n)\n",
        "\n",
        "    producto = np.dot(vector_a, vector_b)\n",
        "\n",
        "    print(f\"\\nVector A: {vector_a}\")\n",
        "    print(f\"Vector B: {vector_b}\")\n",
        "    print(f\"Producto escalar: {producto}\")\n",
        "\n",
        "producto_escalar()"
      ]
    },
    {
      "cell_type": "code",
      "source": [
        "import numpy as np\n",
        "\n",
        "def generar_dimensiones():\n",
        "    \"\"\"Genera dimensiones aleatorias entre 2 y 8 asegurando compatibilidad.\"\"\"\n",
        "    filas_a = np.random.randint(2, 9)\n",
        "    columnas_a = np.random.randint(2, 9)\n",
        "\n",
        "    if operacion == 'suma':\n",
        "        filas_b, columnas_b = filas_a, columnas_a\n",
        "    else:\n",
        "        filas_b, columnas_b = columnas_a, np.random.randint(2, 9)\n",
        "\n",
        "    return filas_a, columnas_a, filas_b, columnas_b\n",
        "\n",
        "def generar_matriz(filas, columnas):\n",
        "    \"\"\"Genera una matriz con números enteros aleatorios entre -10 y 10.\"\"\"\n",
        "    return np.random.randint(-10, 10, (filas, columnas))\n",
        "\n",
        "operacion = input(\"Seleccione una operación (suma/multiplicación): \").strip().lower()\n",
        "while operacion not in ['suma', 'multiplicacion']:\n",
        "    operacion = input(\"Operación inválida. Escriba 'suma' o 'multiplicación': \").strip().lower()\n",
        "\n",
        "filas_a, columnas_a, filas_b, columnas_b = generar_dimensiones()\n",
        "\n",
        "A = generar_matriz(filas_a, columnas_a)\n",
        "B = generar_matriz(filas_b, columnas_b)\n",
        "\n",
        "if operacion == 'suma':\n",
        "    resultado = A + B\n",
        "    print(f\"\\nMatriz A ({filas_a}x{columnas_a}):\\n{A}\")\n",
        "    print(f\"\\nMatriz B ({filas_b}x{columnas_b}):\\n{B}\")\n",
        "    print(f\"\\nSuma de matrices:\\n{resultado}\")\n",
        "else:\n",
        "    resultado = np.dot(A, B)\n",
        "    print(f\"\\nMatriz A ({filas_a}x{columnas_a}):\\n{A}\")\n",
        "    print(f\"\\nMatriz B ({filas_b}x{columnas_b}):\\n{B}\")\n",
        "    print(f\"\\nMultiplicación de matrices:\\n{resultado}\")\n"
      ],
      "metadata": {
        "colab": {
          "base_uri": "https://localhost:8080/"
        },
        "id": "nWHQISMwJZ3I",
        "outputId": "5797bd5d-c2fb-4114-dc4a-eef57b57732e"
      },
      "execution_count": 2,
      "outputs": [
        {
          "output_type": "stream",
          "name": "stdout",
          "text": [
            "Seleccione una operación (suma/multiplicación): suma\n",
            "\n",
            "Matriz A (8x3):\n",
            "[[ 8 -3 -9]\n",
            " [-2  8  3]\n",
            " [-8 -5  8]\n",
            " [ 6 -9  7]\n",
            " [ 5 -9 -9]\n",
            " [-6  3  1]\n",
            " [ 5 -4  9]\n",
            " [-4  4  4]]\n",
            "\n",
            "Matriz B (8x3):\n",
            "[[ -3  -2  -6]\n",
            " [  7   2 -10]\n",
            " [  5   0  -1]\n",
            " [ -8   9 -10]\n",
            " [  0  -9   4]\n",
            " [ -6   6   6]\n",
            " [  6   8   7]\n",
            " [  1  -2   5]]\n",
            "\n",
            "Suma de matrices:\n",
            "[[  5  -5 -15]\n",
            " [  5  10  -7]\n",
            " [ -3  -5   7]\n",
            " [ -2   0  -3]\n",
            " [  5 -18  -5]\n",
            " [-12   9   7]\n",
            " [ 11   4  16]\n",
            " [ -3   2   9]]\n"
          ]
        }
      ]
    }
  ]
}