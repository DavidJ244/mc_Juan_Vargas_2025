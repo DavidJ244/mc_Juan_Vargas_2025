{
  "nbformat": 4,
  "nbformat_minor": 0,
  "metadata": {
    "colab": {
      "provenance": []
    },
    "kernelspec": {
      "name": "python3",
      "display_name": "Python 3"
    },
    "language_info": {
      "name": "python"
    }
  },
  "cells": [
    {
      "cell_type": "code",
      "execution_count": 4,
      "metadata": {
        "colab": {
          "base_uri": "https://localhost:8080/"
        },
        "id": "VRfvpRynAI2l",
        "outputId": "e59107d8-3f8a-49fd-bf1c-e1863eec09e1"
      },
      "outputs": [
        {
          "output_type": "stream",
          "name": "stdout",
          "text": [
            "📌 Primera derivada:\n",
            "Hacia adelante: -0.69875\n",
            "Hacia atrás: -0.65725\n",
            "Centrada: -0.67800\n",
            "Valor exacto: -0.68400\n",
            "\n",
            "📌 Segunda derivada:\n",
            "Hacia adelante: -0.02500\n",
            "Hacia atrás: -0.74500\n",
            "Centrada: -0.41500\n",
            "Valor exacto: -0.42000\n"
          ]
        }
      ],
      "source": [
        "from sympy import symbols, diff\n",
        "\n",
        "\n",
        "def f(x):\n",
        "    return 0.25*x**4 - 0.75*x**2 + 4.5\n",
        "\n",
        "\n",
        "x_i = 0.6\n",
        "h = 0.1\n",
        "\n",
        "\n",
        "f_xi = f(x_i)\n",
        "f_xi1 = f(x_i + h)\n",
        "f_xi_1 = f(x_i - h)\n",
        "f_xi2 = f(x_i + 2*h)\n",
        "f_xi_2 = f(x_i - 2*h)\n",
        "\n",
        "# Primera derivada\n",
        "forward_1st = (f_xi1 - f_xi) / h\n",
        "backward_1st = (f_xi - f_xi_1) / h\n",
        "centered_1st = (f_xi1 - f_xi_1) / (2*h)\n",
        "\n",
        "# Segunda derivada\n",
        "forward_2nd = (f_xi2 - 2*f_xi1 + f_xi) / h**2\n",
        "backward_2nd = (f_xi - 2*f_xi_1 + f_xi_2) / h**2\n",
        "centered_2nd = (f_xi1 - 2*f_xi + f_xi_1) / h**2\n",
        "\n",
        "# verdadera derivada\n",
        "x = symbols('x')\n",
        "f_sym = 0.25*x**4 - 0.75*x**2 + 4.5\n",
        "f_1st_exact = diff(f_sym, x).subs(x, x_i)\n",
        "f_2nd_exact = diff(f_sym, x, x).subs(x, x_i)\n",
        "\n",
        "print(f\"📌 Primera derivada:\")\n",
        "print(f\"Hacia adelante: {forward_1st:.5f}\")\n",
        "print(f\"Hacia atrás: {backward_1st:.5f}\")\n",
        "print(f\"Centrada: {centered_1st:.5f}\")\n",
        "print(f\"Valor exacto: {f_1st_exact:.5f}\\n\")\n",
        "\n",
        "print(f\"📌 Segunda derivada:\")\n",
        "print(f\"Hacia adelante: {forward_2nd:.5f}\")\n",
        "print(f\"Hacia atrás: {backward_2nd:.5f}\")\n",
        "print(f\"Centrada: {centered_2nd:.5f}\")\n",
        "print(f\"Valor exacto: {f_2nd_exact:.5f}\")\n"
      ]
    },
    {
      "cell_type": "code",
      "source": [
        "\n",
        "h = 0.05\n",
        "\n",
        "\n",
        "f_xi1 = f(x_i + h)\n",
        "f_xi_1 = f(x_i - h)\n",
        "f_xi2 = f(x_i + 2*h)\n",
        "f_xi_2 = f(x_i - 2*h)\n",
        "\n",
        "# Primera derivada centrada\n",
        "centered_1st_h05 = (f_xi1 - f_xi_1) / (2*h)\n",
        "\n",
        "# Segunda derivada centrada\n",
        "centered_2nd_h05 = (f_xi1 - 2*f_xi + f_xi_1) / h**2\n",
        "\n",
        "print(f\"\\n🔍 Comparación con h = 0.05\")\n",
        "print(f\"📌 Primera derivada centrada: {centered_1st_h05:.5f} (vs {centered_1st:.5f} con h=0.1)\")\n",
        "print(f\"📌 Segunda derivada centrada: {centered_2nd_h05:.5f} (vs {centered_2nd:.5f} con h=0.1)\")\n",
        "print(f\"📌 Valor exacto: 1ª derivada = {f_1st_exact:.5f}, 2ª derivada = {f_2nd_exact:.5f}\")\n"
      ],
      "metadata": {
        "colab": {
          "base_uri": "https://localhost:8080/"
        },
        "id": "yPqX0h2jDRPT",
        "outputId": "f90d4732-242b-4673-cfef-e1fe2ed74d1a"
      },
      "execution_count": 3,
      "outputs": [
        {
          "output_type": "stream",
          "name": "stdout",
          "text": [
            "\n",
            "🔍 Comparación con h = 0.05\n",
            "📌 Primera derivada centrada: -0.68250 (vs -0.67800 con h=0.1)\n",
            "📌 Segunda derivada centrada: -0.41875 (vs -0.41500 con h=0.1)\n",
            "📌 Valor exacto: 1ª derivada = -0.68400, 2ª derivada = -0.42000\n"
          ]
        }
      ]
    }
  ]
}