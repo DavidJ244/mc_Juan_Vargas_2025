{
  "nbformat": 4,
  "nbformat_minor": 0,
  "metadata": {
    "colab": {
      "provenance": []
    },
    "kernelspec": {
      "name": "python3",
      "display_name": "Python 3"
    },
    "language_info": {
      "name": "python"
    }
  },
  "cells": [
    {
      "cell_type": "code",
      "source": [
        "\n",
        "def pedir_conjunto(nombre):\n",
        "    conjunto = set()\n",
        "    cardinalidad = int(input(f\"Ingrese la cardinalidad del conjunto {nombre}: \"))\n",
        "    for i in range(cardinalidad):\n",
        "        elemento = input(f\"Ingrese el elemento {i + 1} de {nombre}: \")\n",
        "        conjunto.add(elemento)\n",
        "    return conjunto\n",
        "\n",
        "\n",
        "def mostrar_resultado(conjunto):\n",
        "    if len(conjunto) == 0:\n",
        "        print(\"{}\")\n",
        "    else:\n",
        "        print(conjunto)\n",
        "\n",
        "\n",
        "def realizar_operaciones(U, A):\n",
        "\n",
        "    interseccion_union = (U & A) | A\n",
        "    print(f\"(U ∩ A) ∪ A: {interseccion_union}\")\n",
        "\n",
        "\n",
        "    diferencia_interseccion = (U - A) & A\n",
        "    print(f\"(U - A) ∩ A: \", end=\"\")\n",
        "    mostrar_resultado(diferencia_interseccion)\n",
        "\n",
        "    diferencia_simetrica = (U ^ A) - A\n",
        "    print(f\"(U Δ A) - A: {diferencia_simetrica}\")\n",
        "\n",
        "\n",
        "def main():\n",
        "\n",
        "    U = pedir_conjunto('U')\n",
        "    A = pedir_conjunto('A')\n",
        "\n",
        "\n",
        "    if A.issubset(U):\n",
        "        print(\"A es un subconjunto de U. Realizando operaciones...\\n\")\n",
        "        realizar_operaciones(U, A)\n",
        "    else:\n",
        "        print(\"A no es un subconjunto de U. No se pueden realizar las operaciones.\")\n",
        "\n",
        "\n",
        "main()\n"
      ],
      "metadata": {
        "colab": {
          "base_uri": "https://localhost:8080/"
        },
        "id": "DsHl_t6CxO4H",
        "outputId": "bc3cfd18-7fca-4d79-9cb6-32a8c5256f21"
      },
      "execution_count": 13,
      "outputs": [
        {
          "output_type": "stream",
          "name": "stdout",
          "text": [
            "Ingrese la cardinalidad del conjunto U: 4\n",
            "Ingrese el elemento 1 de U: 2\n",
            "Ingrese el elemento 2 de U: 3\n",
            "Ingrese el elemento 3 de U: 4\n",
            "Ingrese el elemento 4 de U: 5\n",
            "Ingrese la cardinalidad del conjunto A: 2\n",
            "Ingrese el elemento 1 de A: 5\n",
            "Ingrese el elemento 2 de A: 4\n",
            "A es un subconjunto de U. Realizando operaciones...\n",
            "\n",
            "(U ∩ A) ∪ A: {'5', '4'}\n",
            "(U - A) ∩ A: {}\n",
            "(U Δ A) - A: {'2', '3'}\n"
          ]
        }
      ]
    }
  ]
}