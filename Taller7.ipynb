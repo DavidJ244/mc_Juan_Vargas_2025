{
  "nbformat": 4,
  "nbformat_minor": 0,
  "metadata": {
    "colab": {
      "provenance": []
    },
    "kernelspec": {
      "name": "python3",
      "display_name": "Python 3"
    },
    "language_info": {
      "name": "python"
    }
  },
  "cells": [
    {
      "cell_type": "code",
      "execution_count": 8,
      "metadata": {
        "colab": {
          "base_uri": "https://localhost:8080/"
        },
        "id": "_y9heIzA6jlx",
        "outputId": "ad25095c-7ab2-4cd1-fa9f-415d1165971f"
      },
      "outputs": [
        {
          "output_type": "stream",
          "name": "stdout",
          "text": [
            "Ingrese el primer número (-32768 a 32767): 7\n",
            "Ingrese el segundo número (-32768 a 32767): -4\n",
            "\n",
            "Suma en complemento a dos:\n",
            "Decimal: 3\n",
            "Binario: [0, 0, 0, 0, 0, 0, 0, 0, 0, 0, 0, 0, 0, 0, 1, 1]\n"
          ]
        }
      ],
      "source": [
        "def to_twos_complement(n, bits=16):\n",
        "    \"\"\"Convierte un número entero a su representación en complemento a dos como lista de bits.\"\"\"\n",
        "    if n < 0:\n",
        "        n = (1 << bits) + n\n",
        "    bin_str = format(n, f'0{bits}b')\n",
        "    return [int(bit) for bit in bin_str]  # Convertimos la cadena en lista de enteros (bits)\n",
        "\n",
        "def from_twos_complement(bit_list, bits=16):\n",
        "    \"\"\"Convierte una lista de bits en complemento a dos a su representación decimal.\"\"\"\n",
        "    bin_str = ''.join(map(str, bit_list))\n",
        "    if bit_list[0] == 1:\n",
        "        return int(bin_str, 2) - (1 << bits)\n",
        "    return int(bin_str, 2)\n",
        "\n",
        "def suma_complemento_a_dos(a, b):\n",
        "    \"\"\"Realiza la suma en complemento a dos usando listas de bits.\"\"\"\n",
        "    bits = 16\n",
        "\n",
        "    a_bin = to_twos_complement(a, bits)\n",
        "    b_bin = to_twos_complement(b, bits)\n",
        "\n",
        "    resultado = (int(''.join(map(str, a_bin)), 2) + int(''.join(map(str, b_bin)), 2)) & 0xFFFF\n",
        "\n",
        "    resultado_bin_list = to_twos_complement(resultado, bits)\n",
        "    resultado_decimal = from_twos_complement(resultado_bin_list, bits)\n",
        "\n",
        "    return resultado_decimal, resultado_bin_list\n",
        "\n",
        "num1 = int(input(\"Ingrese el primer número (-32768 a 32767): \"))\n",
        "num2 = int(input(\"Ingrese el segundo número (-32768 a 32767): \"))\n",
        "\n",
        "if not (-32768 <= num1 <= 32767 and -32768 <= num2 <= 32767):\n",
        "    print(\"Error: Los números deben estar en el rango de -32.768 a 32.767.\")\n",
        "else:\n",
        "    resultado, resultado_binario = suma_complemento_a_dos(num1, num2)\n",
        "    print(f\"\\nSuma en complemento a dos:\\nDecimal: {resultado}\\nBinario: {resultado_binario}\")\n",
        "\n"
      ]
    }
  ]
}