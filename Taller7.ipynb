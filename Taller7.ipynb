{
  "nbformat": 4,
  "nbformat_minor": 0,
  "metadata": {
    "colab": {
      "provenance": []
    },
    "kernelspec": {
      "name": "python3",
      "display_name": "Python 3"
    },
    "language_info": {
      "name": "python"
    }
  },
  "cells": [
    {
      "cell_type": "code",
      "execution_count": 3,
      "metadata": {
        "colab": {
          "base_uri": "https://localhost:8080/"
        },
        "id": "_y9heIzA6jlx",
        "outputId": "5f8b339f-702d-4338-e053-eb3cbf8dce2b"
      },
      "outputs": [
        {
          "output_type": "stream",
          "name": "stdout",
          "text": [
            "Ingrese el primer número (-32768 a 32767): 19\n",
            "Ingrese el segundo número (-32768 a 32767): 20\n",
            "\n",
            "Suma en complemento a dos:\n",
            "Decimal: 39\n",
            "Binario: 0000000000100111\n"
          ]
        }
      ],
      "source": [
        "def to_twos_complement(n, bits=16):\n",
        "    \"\"\"Convierte un número entero a su representación en complemento a dos.\"\"\"\n",
        "    if n < 0:\n",
        "        n = (1 << bits) + n\n",
        "    return format(n, f'0{bits}b')\n",
        "\n",
        "def from_twos_complement(b, bits=16):\n",
        "    \"\"\"Convierte un número binario en complemento a dos a su representación decimal.\"\"\"\n",
        "    if b[0] == '1':\n",
        "        return int(b, 2) - (1 << bits)\n",
        "    return int(b, 2)\n",
        "\n",
        "def suma_complemento_a_dos(a, b):\n",
        "    \"\"\"Realiza la suma en complemento a dos de dos números de 16 bits.\"\"\"\n",
        "    bits = 16\n",
        "\n",
        "\n",
        "    a_bin = to_twos_complement(a, bits)\n",
        "    b_bin = to_twos_complement(b, bits)\n",
        "\n",
        "\n",
        "    resultado = (int(a_bin, 2) + int(b_bin, 2)) & 0xFFFF\n",
        "\n",
        "\n",
        "    resultado_decimal = from_twos_complement(format(resultado, f'0{bits}b'), bits)\n",
        "\n",
        "    return resultado_decimal, format(resultado, f'0{bits}b')\n",
        "\n",
        "\n",
        "num1 = int(input(\"Ingrese el primer número (-32768 a 32767): \"))\n",
        "num2 = int(input(\"Ingrese el segundo número (-32768 a 32767): \"))\n",
        "\n",
        "\n",
        "if not (-32768 <= num1 <= 32767 and -32768 <= num2 <= 32767):\n",
        "    print(\"Error: Los números deben estar en el rango de -32.768 a 32.767.\")\n",
        "else:\n",
        "    resultado, resultado_binario = suma_complemento_a_dos(num1, num2)\n",
        "    print(f\"\\nSuma en complemento a dos:\\nDecimal: {resultado}\\nBinario: {resultado_binario}\")\n"
      ]
    }
  ]
}