{
  "nbformat": 4,
  "nbformat_minor": 0,
  "metadata": {
    "colab": {
      "provenance": []
    },
    "kernelspec": {
      "name": "python3",
      "display_name": "Python 3"
    },
    "language_info": {
      "name": "python"
    }
  },
  "cells": [
    {
      "cell_type": "code",
      "execution_count": 1,
      "metadata": {
        "colab": {
          "base_uri": "https://localhost:8080/"
        },
        "id": "UePhPgjX6WvC",
        "outputId": "952b105c-6341-43da-d668-8443974f29fb"
      },
      "outputs": [
        {
          "output_type": "stream",
          "name": "stdout",
          "text": [
            "a) 68,327.54 + 0.007988 = 68327.54798799999\n",
            "b) 748.067 - 41,322.006 = -40573.939\n",
            "c) 0.40172 * 0.00011109 = 4.459092e-05\n",
            "d) 29.95091 / 0.000110793 = 269828.01801801805\n"
          ]
        }
      ],
      "source": [
        "def punto_flotante(numero, mantisa_digitos=7):\n",
        "\n",
        "    return round(numero, mantisa_digitos - 1)\n",
        "\n",
        "\n",
        "# a) 68,327.54 + 0.007988\n",
        "a = punto_flotante(68327.54) + punto_flotante(0.007988)\n",
        "print(f\"a) 68,327.54 + 0.007988 = {a}\")\n",
        "\n",
        "# b) 748.067 - 41,322.006\n",
        "b = punto_flotante(748.067) - punto_flotante(41322.006)\n",
        "print(f\"b) 748.067 - 41,322.006 = {b}\")\n",
        "\n",
        "# c) 0.40172 * 0.00011109\n",
        "c = punto_flotante(0.40172) * punto_flotante(0.00011109)\n",
        "print(f\"c) 0.40172 * 0.00011109 = {c}\")\n",
        "\n",
        "# d) 29.95091 / 0.000110793\n",
        "d = punto_flotante(29.95091) / punto_flotante(0.000110793)\n",
        "print(f\"d) 29.95091 / 0.000110793 = {d}\")"
      ]
    }
  ]
}