{
  "nbformat": 4,
  "nbformat_minor": 0,
  "metadata": {
    "colab": {
      "provenance": []
    },
    "kernelspec": {
      "name": "python3",
      "display_name": "Python 3"
    },
    "language_info": {
      "name": "python"
    }
  },
  "cells": [
    {
      "cell_type": "code",
      "execution_count": 10,
      "metadata": {
        "colab": {
          "base_uri": "https://localhost:8080/"
        },
        "id": "xYQyeAY3qxED",
        "outputId": "5718477a-fdd4-450b-d825-8f3f81db47e2"
      },
      "outputs": [
        {
          "output_type": "stream",
          "name": "stdout",
          "text": [
            "Ingrese la cantidad de elementos para el conjunto A: 2\n",
            "Ingrese la cantidad de elementos para el conjunto B: 2\n",
            "Conjunto A: {10, 28}\n",
            "Conjunto B: {4, 5}\n",
            "Unión (A ∪ B): {10, 5, 28, 4}\n",
            "Intersección (A ∩ B): set()\n",
            "Diferencia (A - B): {10, 28}\n",
            "Diferencia (B - A): {4, 5}\n",
            "Diferencia Simétrica (A ⨁ B): {10, 28, 4, 5}\n"
          ]
        }
      ],
      "source": [
        "import random\n",
        "\n",
        "\n",
        "n_A = int(input(\"Ingrese la cantidad de elementos para el conjunto A: \"))\n",
        "n_B = int(input(\"Ingrese la cantidad de elementos para el conjunto B: \"))\n",
        "\n",
        "A = set(random.sample(range(31), n_A))\n",
        "B = set(random.sample(range(31), n_B))\n",
        "\n",
        "\n",
        "print(f\"Conjunto A: {A}\")\n",
        "print(f\"Conjunto B: {B}\")\n",
        "\n",
        "print(f\"Unión (A ∪ B): {A | B}\")\n",
        "print(f\"Intersección (A ∩ B): {A & B}\")\n",
        "print(f\"Diferencia (A - B): {A - B}\")\n",
        "print(f\"Diferencia (B - A): {B - A}\")\n",
        "print(f\"Diferencia Simétrica (A ⨁ B): {A ^ B}\")"
      ]
    }
  ]
}